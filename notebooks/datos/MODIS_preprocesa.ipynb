{
 "cells": [
  {
   "cell_type": "markdown",
   "metadata": {},
   "source": [
    "## Datos de LST"
   ]
  },
  {
   "cell_type": "code",
   "execution_count": 2,
   "metadata": {
    "id": "y6jOpH1EfTOv",
    "tags": []
   },
   "outputs": [],
   "source": [
    "import numpy as np\n",
    "import pandas as pd"
   ]
  },
  {
   "cell_type": "markdown",
   "metadata": {
    "id": "Nutuki5hWjat"
   },
   "source": [
    "`pinos.csv`: Datos de temperatura de superficie terrestre (LST) de un área de bosques de pinos.\n",
    "\n",
    "Los datos provienen de dos productos MODIS que ya agregan las LST cada 8 días.\n",
    "\n",
    "Hay 4 registros de LST para cada fecha: dos de LST diurna y dos de LST nocturna."
   ]
  },
  {
   "cell_type": "code",
   "execution_count": 5,
   "metadata": {
    "tags": []
   },
   "outputs": [
    {
     "data": {
      "text/html": [
       "<div>\n",
       "<style scoped>\n",
       "    .dataframe tbody tr th:only-of-type {\n",
       "        vertical-align: middle;\n",
       "    }\n",
       "\n",
       "    .dataframe tbody tr th {\n",
       "        vertical-align: top;\n",
       "    }\n",
       "\n",
       "    .dataframe thead th {\n",
       "        text-align: right;\n",
       "    }\n",
       "</style>\n",
       "<table border=\"1\" class=\"dataframe\">\n",
       "  <thead>\n",
       "    <tr style=\"text-align: right;\">\n",
       "      <th></th>\n",
       "      <th>fecha</th>\n",
       "      <th>01:30</th>\n",
       "      <th>10:30</th>\n",
       "      <th>13:30</th>\n",
       "      <th>22:30</th>\n",
       "    </tr>\n",
       "  </thead>\n",
       "  <tbody>\n",
       "    <tr>\n",
       "      <th>0</th>\n",
       "      <td>2020-01-01</td>\n",
       "      <td>11.39</td>\n",
       "      <td>28.01</td>\n",
       "      <td>33.94</td>\n",
       "      <td>12.14</td>\n",
       "    </tr>\n",
       "    <tr>\n",
       "      <th>1</th>\n",
       "      <td>2020-01-09</td>\n",
       "      <td>6.89</td>\n",
       "      <td>23.94</td>\n",
       "      <td>29.76</td>\n",
       "      <td>8.29</td>\n",
       "    </tr>\n",
       "    <tr>\n",
       "      <th>2</th>\n",
       "      <td>2020-01-17</td>\n",
       "      <td>12.31</td>\n",
       "      <td>30.30</td>\n",
       "      <td>37.55</td>\n",
       "      <td>13.92</td>\n",
       "    </tr>\n",
       "    <tr>\n",
       "      <th>3</th>\n",
       "      <td>2020-01-25</td>\n",
       "      <td>8.24</td>\n",
       "      <td>25.08</td>\n",
       "      <td>31.54</td>\n",
       "      <td>10.21</td>\n",
       "    </tr>\n",
       "    <tr>\n",
       "      <th>4</th>\n",
       "      <td>2020-02-02</td>\n",
       "      <td>7.46</td>\n",
       "      <td>25.06</td>\n",
       "      <td>30.09</td>\n",
       "      <td>9.33</td>\n",
       "    </tr>\n",
       "    <tr>\n",
       "      <th>...</th>\n",
       "      <td>...</td>\n",
       "      <td>...</td>\n",
       "      <td>...</td>\n",
       "      <td>...</td>\n",
       "      <td>...</td>\n",
       "    </tr>\n",
       "    <tr>\n",
       "      <th>225</th>\n",
       "      <td>2024-11-24</td>\n",
       "      <td>3.22</td>\n",
       "      <td>19.02</td>\n",
       "      <td>23.83</td>\n",
       "      <td>4.87</td>\n",
       "    </tr>\n",
       "    <tr>\n",
       "      <th>226</th>\n",
       "      <td>2024-12-02</td>\n",
       "      <td>2.26</td>\n",
       "      <td>21.63</td>\n",
       "      <td>27.66</td>\n",
       "      <td>3.80</td>\n",
       "    </tr>\n",
       "    <tr>\n",
       "      <th>227</th>\n",
       "      <td>2024-12-10</td>\n",
       "      <td>6.96</td>\n",
       "      <td>25.20</td>\n",
       "      <td>31.05</td>\n",
       "      <td>9.55</td>\n",
       "    </tr>\n",
       "    <tr>\n",
       "      <th>228</th>\n",
       "      <td>2024-12-18</td>\n",
       "      <td>6.92</td>\n",
       "      <td>23.79</td>\n",
       "      <td>33.01</td>\n",
       "      <td>9.63</td>\n",
       "    </tr>\n",
       "    <tr>\n",
       "      <th>229</th>\n",
       "      <td>2024-12-26</td>\n",
       "      <td>11.73</td>\n",
       "      <td>27.19</td>\n",
       "      <td>34.53</td>\n",
       "      <td>14.07</td>\n",
       "    </tr>\n",
       "  </tbody>\n",
       "</table>\n",
       "<p>230 rows × 5 columns</p>\n",
       "</div>"
      ],
      "text/plain": [
       "          fecha  01:30  10:30  13:30  22:30\n",
       "0    2020-01-01  11.39  28.01  33.94  12.14\n",
       "1    2020-01-09   6.89  23.94  29.76   8.29\n",
       "2    2020-01-17  12.31  30.30  37.55  13.92\n",
       "3    2020-01-25   8.24  25.08  31.54  10.21\n",
       "4    2020-02-02   7.46  25.06  30.09   9.33\n",
       "..          ...    ...    ...    ...    ...\n",
       "225  2024-11-24   3.22  19.02  23.83   4.87\n",
       "226  2024-12-02   2.26  21.63  27.66   3.80\n",
       "227  2024-12-10   6.96  25.20  31.05   9.55\n",
       "228  2024-12-18   6.92  23.79  33.01   9.63\n",
       "229  2024-12-26  11.73  27.19  34.53  14.07\n",
       "\n",
       "[230 rows x 5 columns]"
      ]
     },
     "execution_count": 5,
     "metadata": {},
     "output_type": "execute_result"
    }
   ],
   "source": [
    "df_pino= pd.read_csv('pinos.csv')\n",
    "df_pino.round(2)"
   ]
  },
  {
   "cell_type": "code",
   "execution_count": 4,
   "metadata": {
    "tags": []
   },
   "outputs": [
    {
     "name": "stdout",
     "output_type": "stream",
     "text": [
      "<class 'pandas.core.frame.DataFrame'>\n",
      "RangeIndex: 230 entries, 0 to 229\n",
      "Data columns (total 5 columns):\n",
      " #   Column  Non-Null Count  Dtype  \n",
      "---  ------  --------------  -----  \n",
      " 0   fecha   230 non-null    object \n",
      " 1   01:30   229 non-null    float64\n",
      " 2   10:30   229 non-null    float64\n",
      " 3   13:30   229 non-null    float64\n",
      " 4   22:30   229 non-null    float64\n",
      "dtypes: float64(4), object(1)\n",
      "memory usage: 9.1+ KB\n"
     ]
    }
   ],
   "source": [
    "df_pino.info()"
   ]
  },
  {
   "cell_type": "code",
   "execution_count": 3,
   "metadata": {
    "tags": []
   },
   "outputs": [
    {
     "data": {
      "text/html": [
       "<div>\n",
       "<style scoped>\n",
       "    .dataframe tbody tr th:only-of-type {\n",
       "        vertical-align: middle;\n",
       "    }\n",
       "\n",
       "    .dataframe tbody tr th {\n",
       "        vertical-align: top;\n",
       "    }\n",
       "\n",
       "    .dataframe thead th {\n",
       "        text-align: right;\n",
       "    }\n",
       "</style>\n",
       "<table border=\"1\" class=\"dataframe\">\n",
       "  <thead>\n",
       "    <tr style=\"text-align: right;\">\n",
       "      <th></th>\n",
       "      <th>fecha</th>\n",
       "      <th>01:30</th>\n",
       "      <th>10:30</th>\n",
       "      <th>13:30</th>\n",
       "      <th>22:30</th>\n",
       "    </tr>\n",
       "  </thead>\n",
       "  <tbody>\n",
       "    <tr>\n",
       "      <th>45</th>\n",
       "      <td>2020-12-26</td>\n",
       "      <td>8.417256</td>\n",
       "      <td>26.210110</td>\n",
       "      <td>34.640609</td>\n",
       "      <td>9.807260</td>\n",
       "    </tr>\n",
       "    <tr>\n",
       "      <th>46</th>\n",
       "      <td>2021-01-01</td>\n",
       "      <td>9.090950</td>\n",
       "      <td>28.349277</td>\n",
       "      <td>33.497236</td>\n",
       "      <td>10.148775</td>\n",
       "    </tr>\n",
       "    <tr>\n",
       "      <th>47</th>\n",
       "      <td>2021-01-09</td>\n",
       "      <td>4.671762</td>\n",
       "      <td>20.373849</td>\n",
       "      <td>27.527990</td>\n",
       "      <td>6.364589</td>\n",
       "    </tr>\n",
       "    <tr>\n",
       "      <th>48</th>\n",
       "      <td>2021-01-17</td>\n",
       "      <td>12.120279</td>\n",
       "      <td>31.726227</td>\n",
       "      <td>38.266000</td>\n",
       "      <td>14.303095</td>\n",
       "    </tr>\n",
       "    <tr>\n",
       "      <th>49</th>\n",
       "      <td>2021-01-25</td>\n",
       "      <td>7.242275</td>\n",
       "      <td>25.991401</td>\n",
       "      <td>32.452296</td>\n",
       "      <td>8.189890</td>\n",
       "    </tr>\n",
       "    <tr>\n",
       "      <th>50</th>\n",
       "      <td>2021-02-02</td>\n",
       "      <td>12.223177</td>\n",
       "      <td>28.668437</td>\n",
       "      <td>35.975948</td>\n",
       "      <td>13.935962</td>\n",
       "    </tr>\n",
       "    <tr>\n",
       "      <th>51</th>\n",
       "      <td>2021-02-10</td>\n",
       "      <td>11.462503</td>\n",
       "      <td>25.763728</td>\n",
       "      <td>31.726145</td>\n",
       "      <td>13.092864</td>\n",
       "    </tr>\n",
       "    <tr>\n",
       "      <th>52</th>\n",
       "      <td>2021-02-18</td>\n",
       "      <td>7.664031</td>\n",
       "      <td>23.281787</td>\n",
       "      <td>31.219983</td>\n",
       "      <td>9.003645</td>\n",
       "    </tr>\n",
       "    <tr>\n",
       "      <th>53</th>\n",
       "      <td>2021-02-26</td>\n",
       "      <td>12.559893</td>\n",
       "      <td>26.701945</td>\n",
       "      <td>33.188017</td>\n",
       "      <td>14.025201</td>\n",
       "    </tr>\n",
       "    <tr>\n",
       "      <th>54</th>\n",
       "      <td>2021-03-06</td>\n",
       "      <td>8.841339</td>\n",
       "      <td>25.116472</td>\n",
       "      <td>32.675632</td>\n",
       "      <td>10.351294</td>\n",
       "    </tr>\n",
       "    <tr>\n",
       "      <th>55</th>\n",
       "      <td>2021-03-14</td>\n",
       "      <td>6.533718</td>\n",
       "      <td>23.433580</td>\n",
       "      <td>30.543067</td>\n",
       "      <td>7.403893</td>\n",
       "    </tr>\n",
       "  </tbody>\n",
       "</table>\n",
       "</div>"
      ],
      "text/plain": [
       "         fecha      01:30      10:30      13:30      22:30\n",
       "45  2020-12-26   8.417256  26.210110  34.640609   9.807260\n",
       "46  2021-01-01   9.090950  28.349277  33.497236  10.148775\n",
       "47  2021-01-09   4.671762  20.373849  27.527990   6.364589\n",
       "48  2021-01-17  12.120279  31.726227  38.266000  14.303095\n",
       "49  2021-01-25   7.242275  25.991401  32.452296   8.189890\n",
       "50  2021-02-02  12.223177  28.668437  35.975948  13.935962\n",
       "51  2021-02-10  11.462503  25.763728  31.726145  13.092864\n",
       "52  2021-02-18   7.664031  23.281787  31.219983   9.003645\n",
       "53  2021-02-26  12.559893  26.701945  33.188017  14.025201\n",
       "54  2021-03-06   8.841339  25.116472  32.675632  10.351294\n",
       "55  2021-03-14   6.533718  23.433580  30.543067   7.403893"
      ]
     },
     "execution_count": 3,
     "metadata": {},
     "output_type": "execute_result"
    }
   ],
   "source": [
    "# Calculo el promedio de tres meses (ejemplo verano 2020-2021)\n",
    "inicio = '2020-12-21'\n",
    "fin = '2021-03-20'\n",
    "\n",
    "df_3meses = df_pino[(df_pino['fecha'] >= inicio) & (df_pino['fecha'] <= fin)]\n",
    "df_3meses"
   ]
  },
  {
   "cell_type": "code",
   "execution_count": 4,
   "metadata": {
    "tags": []
   },
   "outputs": [
    {
     "data": {
      "text/html": [
       "<div>\n",
       "<style scoped>\n",
       "    .dataframe tbody tr th:only-of-type {\n",
       "        vertical-align: middle;\n",
       "    }\n",
       "\n",
       "    .dataframe tbody tr th {\n",
       "        vertical-align: top;\n",
       "    }\n",
       "\n",
       "    .dataframe thead th {\n",
       "        text-align: right;\n",
       "    }\n",
       "</style>\n",
       "<table border=\"1\" class=\"dataframe\">\n",
       "  <thead>\n",
       "    <tr style=\"text-align: right;\">\n",
       "      <th></th>\n",
       "      <th>01:30</th>\n",
       "      <th>10:30</th>\n",
       "      <th>13:30</th>\n",
       "      <th>22:30</th>\n",
       "    </tr>\n",
       "  </thead>\n",
       "  <tbody>\n",
       "    <tr>\n",
       "      <th>count</th>\n",
       "      <td>11.000000</td>\n",
       "      <td>11.000000</td>\n",
       "      <td>11.000000</td>\n",
       "      <td>11.000000</td>\n",
       "    </tr>\n",
       "    <tr>\n",
       "      <th>mean</th>\n",
       "      <td>9.166108</td>\n",
       "      <td>25.965165</td>\n",
       "      <td>32.882993</td>\n",
       "      <td>10.602406</td>\n",
       "    </tr>\n",
       "    <tr>\n",
       "      <th>std</th>\n",
       "      <td>2.619578</td>\n",
       "      <td>3.040036</td>\n",
       "      <td>2.838774</td>\n",
       "      <td>2.831829</td>\n",
       "    </tr>\n",
       "    <tr>\n",
       "      <th>min</th>\n",
       "      <td>4.671762</td>\n",
       "      <td>20.373849</td>\n",
       "      <td>27.527990</td>\n",
       "      <td>6.364589</td>\n",
       "    </tr>\n",
       "    <tr>\n",
       "      <th>25%</th>\n",
       "      <td>7.453153</td>\n",
       "      <td>24.275026</td>\n",
       "      <td>31.473064</td>\n",
       "      <td>8.596768</td>\n",
       "    </tr>\n",
       "    <tr>\n",
       "      <th>50%</th>\n",
       "      <td>8.841339</td>\n",
       "      <td>25.991401</td>\n",
       "      <td>32.675632</td>\n",
       "      <td>10.148775</td>\n",
       "    </tr>\n",
       "    <tr>\n",
       "      <th>75%</th>\n",
       "      <td>11.791391</td>\n",
       "      <td>27.525611</td>\n",
       "      <td>34.068923</td>\n",
       "      <td>13.514413</td>\n",
       "    </tr>\n",
       "    <tr>\n",
       "      <th>max</th>\n",
       "      <td>12.559893</td>\n",
       "      <td>31.726227</td>\n",
       "      <td>38.266000</td>\n",
       "      <td>14.303095</td>\n",
       "    </tr>\n",
       "  </tbody>\n",
       "</table>\n",
       "</div>"
      ],
      "text/plain": [
       "           01:30      10:30      13:30      22:30\n",
       "count  11.000000  11.000000  11.000000  11.000000\n",
       "mean    9.166108  25.965165  32.882993  10.602406\n",
       "std     2.619578   3.040036   2.838774   2.831829\n",
       "min     4.671762  20.373849  27.527990   6.364589\n",
       "25%     7.453153  24.275026  31.473064   8.596768\n",
       "50%     8.841339  25.991401  32.675632  10.148775\n",
       "75%    11.791391  27.525611  34.068923  13.514413\n",
       "max    12.559893  31.726227  38.266000  14.303095"
      ]
     },
     "execution_count": 4,
     "metadata": {},
     "output_type": "execute_result"
    }
   ],
   "source": [
    "df_3meses[['01:30','10:30','13:30','22:30']].describe()"
   ]
  },
  {
   "cell_type": "code",
   "execution_count": 10,
   "metadata": {
    "tags": []
   },
   "outputs": [
    {
     "data": {
      "text/plain": [
       "[(1.5, 9.17), (10.5, 25.97), (13.5, 32.88), (22.5, 10.6)]"
      ]
     },
     "execution_count": 10,
     "metadata": {},
     "output_type": "execute_result"
    }
   ],
   "source": [
    "temps = df_3meses[['01:30','10:30','13:30','22:30']].mean().values\n",
    "x_values = [1.5, 10.5, 13.5, 22.5]\n",
    "points = [(x, round(y, 2)) for x, y in zip(x_values, temps)]\n",
    "points"
   ]
  },
  {
   "cell_type": "code",
   "execution_count": 12,
   "metadata": {},
   "outputs": [
    {
     "data": {
      "text/plain": [
       "[[(1.5, 12.22), (10.5, 28.67), (13.5, 35.98), (22.5, 13.94)],\n",
       " [(1.5, 8.42), (10.5, 26.21), (13.5, 34.64), (22.5, 9.81)],\n",
       " [(1.5, 8.84), (10.5, 25.12), (13.5, 32.68), (22.5, 10.35)],\n",
       " [(1.5, 6.53), (10.5, 23.43), (13.5, 30.54), (22.5, 7.4)]]"
      ]
     },
     "execution_count": 12,
     "metadata": {},
     "output_type": "execute_result"
    }
   ],
   "source": [
    "# Genero 4 puntos random de ese rango de fechas\n",
    "\n",
    "df_random = df_3meses.sample(4, random_state=42)\n",
    "\n",
    "# Definir las horas como valores x\n",
    "x_values = [1.5, 10.5, 13.5, 22.5]\n",
    "\n",
    "point_sets = [\n",
    "    [(x, round(y, 2)) for x, y in zip(x_values, row[['01:30', '10:30', '13:30', '22:30']].values)]\n",
    "    for _, row in df_random.iterrows()\n",
    "]\n",
    "\n",
    "point_sets\n"
   ]
  },
  {
   "cell_type": "code",
   "execution_count": null,
   "metadata": {},
   "outputs": [],
   "source": []
  }
 ],
 "metadata": {
  "colab": {
   "provenance": []
  },
  "kernelspec": {
   "display_name": "Python (add-env)",
   "language": "python",
   "name": "add-env"
  },
  "language_info": {
   "codemirror_mode": {
    "name": "ipython",
    "version": 3
   },
   "file_extension": ".py",
   "mimetype": "text/x-python",
   "name": "python",
   "nbconvert_exporter": "python",
   "pygments_lexer": "ipython3",
   "version": "3.11.11"
  }
 },
 "nbformat": 4,
 "nbformat_minor": 4
}
