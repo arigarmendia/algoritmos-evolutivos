{
 "cells": [
  {
   "cell_type": "code",
   "execution_count": 30,
   "id": "e78edcb8-d95d-448b-a01b-bd5ca5f23c57",
   "metadata": {
    "tags": []
   },
   "outputs": [],
   "source": [
    "import random\n",
    "import csv\n",
    "from collections import defaultdict\n",
    "import pandas as pd"
   ]
  },
  {
   "cell_type": "code",
   "execution_count": 31,
   "id": "0c128c4a-dbc6-4870-a779-7e78b71e7d30",
   "metadata": {
    "tags": []
   },
   "outputs": [
    {
     "name": "stdout",
     "output_type": "stream",
     "text": [
      "['Lunes', 'Martes', 'Miércoles', 'Jueves']\n",
      "[1, 2, 3, 4, 5, 6, 7, 8]\n"
     ]
    }
   ],
   "source": [
    "# PARÁMETROS\n",
    "# los deduce de los slots\n",
    "\n",
    "# depende si quiero usar los slots de bloques de hora y media o los de 45 minutos\n",
    "#df_slots = pd.read_csv(\"datos/slots.csv\")\n",
    "df_slots = pd.read_csv(\"../datos/slots_divididos_dic_2024.csv\")\n",
    "\n",
    "DIAS = df_slots['dia'].unique().tolist()\n",
    "SLOTS = df_slots['slot'].unique().tolist()\n",
    "\n",
    "print(DIAS)\n",
    "print(SLOTS)\n",
    "\n",
    "W1, W2, W3 = 10, 3, 0  # pesos del costo (días, disponibilidad 2, huecos)"
   ]
  },
  {
   "cell_type": "code",
   "execution_count": 32,
   "id": "d1c8207f-4aa9-44b4-91da-c36481a313da",
   "metadata": {},
   "outputs": [],
   "source": [
    "# lo cambio a mano\n",
    "# DIAS = ['Lunes', 'Viernes']\n",
    "# SLOTS=[1, 2, 3, 4, 5, 6, 7, 8]"
   ]
  },
  {
   "cell_type": "markdown",
   "id": "6f4fe964-fa5f-4f57-8a10-fe5aaf7a46f4",
   "metadata": {},
   "source": [
    "## Carga los datos"
   ]
  },
  {
   "cell_type": "code",
   "execution_count": 33,
   "id": "53fca4a6-af5e-44d5-8eaa-f90ed03c1c80",
   "metadata": {
    "tags": []
   },
   "outputs": [],
   "source": [
    "def cargar_asignaciones(path):\n",
    "    asign = {}\n",
    "    with open(path, newline='', encoding='utf-8') as f:\n",
    "        reader = csv.DictReader(f)\n",
    "        for row in reader:\n",
    "            asign[row['alumno']] = [row['jurado1'], row['jurado2'], row['jurado3']]\n",
    "    return asign\n",
    "\n",
    "def cargar_disponibilidad(path):\n",
    "    disp = defaultdict(lambda: defaultdict(dict))\n",
    "    with open(path, newline='', encoding='utf-8') as f:\n",
    "        reader = csv.DictReader(f)\n",
    "        for row in reader:\n",
    "            jur = row['jurado']\n",
    "            dia = row['dia']\n",
    "            slot = int(row['slot'])\n",
    "\n",
    "            #ignoro el \"si, si fuera necesario\"\n",
    "            if (row['disponibilidad']==1):\n",
    "                row['disponibilidad']=2\n",
    "                \n",
    "            disp[jur][dia][slot] = int(row['disponibilidad'])\n",
    "    return disp"
   ]
  },
  {
   "cell_type": "code",
   "execution_count": 34,
   "id": "3c78c4e0-9b78-42e8-9fec-01ddf5848e1a",
   "metadata": {
    "tags": []
   },
   "outputs": [],
   "source": [
    "asignaciones = cargar_asignaciones(\"../datos/asignaciones_dic_2024.csv\")\n",
    "disponibilidad = cargar_disponibilidad(f\"../datos/disponibilidad_dic_2024.csv\")"
   ]
  },
  {
   "cell_type": "markdown",
   "id": "617b4cc1-a407-4346-b6e7-6964072b6eea",
   "metadata": {},
   "source": [
    "## Tabu search"
   ]
  },
  {
   "cell_type": "code",
   "execution_count": 35,
   "id": "d4b38041-a720-439c-b466-0991db7e40bb",
   "metadata": {
    "tags": []
   },
   "outputs": [],
   "source": [
    "# --- FUNCIÓN DE COSTO ---\n",
    "\n",
    "def calcular_costo_total(solucion, asignaciones, disponibilidad):\n",
    "    dias_usados = len(set(d for d, s in solucion.values()))\n",
    "\n",
    "    uso_dispon2 = 0\n",
    "    huecos = 0\n",
    "\n",
    "    # Penalizar uso de disponibilidad tipo 2 y jurados no disponibles\n",
    "    for alumno, (dia, slot) in solucion.items():\n",
    "        for jur in asignaciones[alumno]:\n",
    "            val = disponibilidad[jur][dia].get(slot, 0)\n",
    "            if val == 0:\n",
    "                return 1e9  # prohibido\n",
    "            if val == 2:\n",
    "                uso_dispon2 += 1\n",
    "\n",
    "    # Penalizar huecos dentro de cada día\n",
    "    for dia in DIAS:\n",
    "        slots_ocupados = sorted([s for d, s in solucion.values() if d == dia])\n",
    "        if len(slots_ocupados) > 1:\n",
    "            for a, b in zip(slots_ocupados[:-1], slots_ocupados[1:]):\n",
    "                if b - a > 1:\n",
    "                    huecos += b - a - 1\n",
    "\n",
    "    return W1 * dias_usados + W2 * uso_dispon2 + W3 * huecos\n",
    "\n",
    "# --- GENERACIÓN DE VECINOS ---\n",
    "\n",
    "def generar_vecindarios(solucion):\n",
    "    vecindarios = []\n",
    "    alumnos = list(solucion.keys())\n",
    "    for alumno in alumnos:\n",
    "        dia_actual, slot_actual = solucion[alumno]\n",
    "        for dia in DIAS:\n",
    "            for slot in SLOTS:\n",
    "                if (dia, slot) not in solucion.values():\n",
    "                    nueva = solucion.copy()\n",
    "                    nueva[alumno] = (dia, slot)\n",
    "                    movimiento = (alumno, dia_actual, slot_actual, dia, slot)\n",
    "                    vecindarios.append((nueva, movimiento))\n",
    "    return vecindarios\n",
    "\n",
    "# --- BÚSQUEDA TABÚ ---\n",
    "\n",
    "def busqueda_tabu(asignaciones, disponibilidad, num_iteraciones=500, tamanio_lista_tabu=20):\n",
    "    # solución inicial heurística: primer horario disponible para cada alumno\n",
    "    solucion_actual = {}\n",
    "    usados = set()\n",
    "    for alumno in asignaciones.keys():\n",
    "        asignado = False\n",
    "        for d in DIAS:\n",
    "            for s in SLOTS:\n",
    "                if (d, s) not in usados and all(disponibilidad[j][d].get(s, 0) != 0 for j in asignaciones[alumno]):\n",
    "                    solucion_actual[alumno] = (d, s)\n",
    "                    usados.add((d, s))\n",
    "                    asignado = True\n",
    "                    break\n",
    "            if asignado:\n",
    "                break\n",
    "\n",
    "    mejor_solucion = solucion_actual.copy()\n",
    "    mejor_costo = calcular_costo_total(mejor_solucion, asignaciones, disponibilidad)\n",
    "\n",
    "    lista_tabu = []\n",
    "\n",
    "    print(\"Solución inicial:\", mejor_solucion)\n",
    "    print(\"Costo inicial:\", mejor_costo)\n",
    "\n",
    "    for iteracion in range(num_iteraciones):\n",
    "        vecindarios = generar_vecindarios(solucion_actual)\n",
    "\n",
    "        mejor_vecindario = None\n",
    "        mejor_movimiento = None\n",
    "        mejor_costo_vecino = float('inf')\n",
    "\n",
    "        for vecino, movimiento in vecindarios:\n",
    "            costo_vecino = calcular_costo_total(vecino, asignaciones, disponibilidad)\n",
    "\n",
    "            # criterio de aspiración\n",
    "            if (movimiento not in lista_tabu) or (costo_vecino < mejor_costo):\n",
    "                if costo_vecino < mejor_costo_vecino:\n",
    "                    mejor_vecindario = vecino\n",
    "                    mejor_movimiento = movimiento\n",
    "                    mejor_costo_vecino = costo_vecino\n",
    "\n",
    "        if mejor_vecindario is None:\n",
    "            break  # no hay vecinos válidos\n",
    "\n",
    "        solucion_actual = mejor_vecindario.copy()\n",
    "\n",
    "        # actualizar lista tabú\n",
    "        lista_tabu.append(mejor_movimiento)\n",
    "        if len(lista_tabu) > tamanio_lista_tabu:\n",
    "            lista_tabu.pop(0)\n",
    "\n",
    "        # actualizar mejor solución global\n",
    "        if mejor_costo_vecino < mejor_costo:\n",
    "            mejor_solucion = mejor_vecindario.copy()\n",
    "            mejor_costo = mejor_costo_vecino\n",
    "\n",
    "        if iteracion % 20 == 0:\n",
    "            print(f\"Iteración {iteracion}: costo actual = {mejor_costo}\")\n",
    "\n",
    "    return mejor_solucion, mejor_costo\n"
   ]
  },
  {
   "cell_type": "code",
   "execution_count": 36,
   "id": "c975c7a5-85c1-4b39-9749-937c31c07b8c",
   "metadata": {
    "tags": []
   },
   "outputs": [
    {
     "name": "stdout",
     "output_type": "stream",
     "text": [
      "Solución inicial: {'Fernandez': ('Lunes', 1), 'Villarraza': ('Lunes', 2), 'Alianak': ('Lunes', 3), 'Valdez': ('Lunes', 4), 'Acerbo': ('Lunes', 5), 'Baffo': ('Lunes', 6), 'Bampini Basualdo': ('Lunes', 7), 'Vásquez González': ('Martes', 1), 'Saraco': ('Martes', 2), 'Paz': ('Martes', 3), 'Monroy Guerrero': ('Martes', 5), 'Mendoza': ('Martes', 6), 'Anselmi Hernandez': ('Miércoles', 3), 'Ferrán': ('Miércoles', 4), 'Brumovsky': ('Miércoles', 5), 'Andrioli Villa': ('Miércoles', 6), 'Carvallo Murga': ('Miércoles', 7), 'Crivos Gandini': ('Jueves', 3), 'Bazet': ('Jueves', 7)}\n",
      "Costo inicial: 160\n",
      "Iteración 0: costo actual = 154\n",
      "Iteración 20: costo actual = 151\n",
      "Iteración 40: costo actual = 151\n",
      "Iteración 60: costo actual = 151\n",
      "Iteración 80: costo actual = 151\n",
      "Iteración 100: costo actual = 151\n",
      "Iteración 120: costo actual = 151\n",
      "Iteración 140: costo actual = 151\n",
      "Iteración 160: costo actual = 151\n",
      "Iteración 180: costo actual = 151\n",
      "Iteración 200: costo actual = 151\n",
      "Iteración 220: costo actual = 151\n",
      "Iteración 240: costo actual = 151\n",
      "Iteración 260: costo actual = 151\n",
      "Iteración 280: costo actual = 151\n",
      "Iteración 300: costo actual = 151\n",
      "Iteración 320: costo actual = 151\n",
      "Iteración 340: costo actual = 151\n",
      "Iteración 360: costo actual = 151\n",
      "Iteración 380: costo actual = 151\n",
      "Iteración 400: costo actual = 151\n",
      "Iteración 420: costo actual = 151\n",
      "Iteración 440: costo actual = 151\n",
      "Iteración 460: costo actual = 151\n",
      "Iteración 480: costo actual = 151\n",
      "\n",
      "=== MEJOR ASIGNACIÓN ENCONTRADA ===\n",
      "Fernandez  → Lunes (slot 8)  Costo total: 151\n",
      "Villarraza → Lunes (slot 2)  Costo total: 151\n",
      "Alianak    → Lunes (slot 3)  Costo total: 151\n",
      "Valdez     → Lunes (slot 4)  Costo total: 151\n",
      "Acerbo     → Lunes (slot 5)  Costo total: 151\n",
      "Baffo      → Miércoles (slot 8)  Costo total: 151\n",
      "Bampini Basualdo → Lunes (slot 7)  Costo total: 151\n",
      "Vásquez González → Martes (slot 1)  Costo total: 151\n",
      "Saraco     → Martes (slot 2)  Costo total: 151\n",
      "Paz        → Martes (slot 3)  Costo total: 151\n",
      "Monroy Guerrero → Martes (slot 5)  Costo total: 151\n",
      "Mendoza    → Martes (slot 6)  Costo total: 151\n",
      "Anselmi Hernandez → Miércoles (slot 3)  Costo total: 151\n",
      "Ferrán     → Miércoles (slot 4)  Costo total: 151\n",
      "Brumovsky  → Miércoles (slot 5)  Costo total: 151\n",
      "Andrioli Villa → Miércoles (slot 6)  Costo total: 151\n",
      "Carvallo Murga → Miércoles (slot 7)  Costo total: 151\n",
      "Crivos Gandini → Jueves (slot 3)  Costo total: 151\n",
      "Bazet      → Jueves (slot 7)  Costo total: 151\n"
     ]
    }
   ],
   "source": [
    "mejor_sol, mejor_costo = busqueda_tabu(asignaciones, disponibilidad)\n",
    "\n",
    "print(\"\\n=== MEJOR ASIGNACIÓN ENCONTRADA ===\")\n",
    "for alumno, (dia, slot) in mejor_sol.items():\n",
    "    print(f\"{alumno:10s} → {dia} (slot {slot})  Costo total: {mejor_costo}\")"
   ]
  },
  {
   "cell_type": "code",
   "execution_count": 37,
   "id": "f61a8e28-e2aa-4d56-949e-8a82c70888b2",
   "metadata": {
    "tags": []
   },
   "outputs": [],
   "source": [
    "# mejor_sol: diccionario alumno -> (dia, slot)\n",
    "# mejor_costo: valor total de la penalización\n",
    "\n",
    "filas = []\n",
    "for alumno, (dia, slot) in mejor_sol.items():\n",
    "    filas.append({'Alumno': alumno, 'Día': dia, 'Slot': slot})\n",
    "\n",
    "#df['Costo total'] = mejor_costo\n",
    "\n",
    "df = pd.DataFrame(filas)\n",
    "\n",
    "# Ordenamos primero por día, luego por slot\n",
    "dias_orden = ['Lunes', 'Martes', 'Miércoles', 'Jueves', 'Viernes']\n",
    "df['Día'] = pd.Categorical(df['Día'], categories=dias_orden, ordered=True)\n",
    "df = df.sort_values(['Día', 'Slot'])"
   ]
  },
  {
   "cell_type": "code",
   "execution_count": 38,
   "id": "eb4f6307-6561-4e56-8808-ede50995197b",
   "metadata": {
    "tags": []
   },
   "outputs": [],
   "source": [
    "# recupera toda la info para mostrar el resultado final\n",
    "df_merged = df.merge(\n",
    "    df_slots[['dia', 'slot', 'rango_horario']],\n",
    "    left_on=['Día', 'Slot'],\n",
    "    right_on=['dia', 'slot'],\n",
    "    how='left'\n",
    ")\n",
    "df_merged = df_merged.drop(columns=['dia', 'slot'])\n",
    "df_merged['jurados'] = df_merged['Alumno'].map(lambda x: ', '.join(asignaciones.get(x, [])))\n",
    "df_final = df_merged[['Día', 'rango_horario', 'Alumno', 'jurados', 'Slot']]\n",
    "df_final = df_final.sort_values(by=['Día', 'Slot']).reset_index(drop=True)\n",
    "df_final = df_final[['Día', 'rango_horario', 'Alumno', 'jurados']]"
   ]
  },
  {
   "cell_type": "code",
   "execution_count": 39,
   "id": "4e6c8a76-9135-4f3d-8e95-f715c6331942",
   "metadata": {
    "tags": []
   },
   "outputs": [
    {
     "name": "stdout",
     "output_type": "stream",
     "text": [
      "\n",
      "=== MEJOR ASIGNACIÓN ENCONTRADA ===\n",
      "      Día rango_horario            Alumno                                                                        jurados\n",
      "   Jueves 17:30 a 18:15    Crivos Gandini                          pbos@fi.uba.ar, evolentini@gmail.com, jcruz@fi.uba.ar\n",
      "   Jueves 20:30 a 21:15             Bazet                      alicialmon@gmail.com, vaubin@unlam.edu.ar, cad@uns.edu.ar\n",
      "    Lunes 16:45 a 17:30        Villarraza    lmarianocampos@gmail.com, emilianorm@gmail.com, rraulemilioromero@gmail.com\n",
      "    Lunes 17:30 a 18:15           Alianak farfan.roberto.f@gmail.com, gerardox2000@gmail.com, denisjorgegenero@gmail.com\n",
      "    Lunes 18:15 a 19:00            Valdez      facundolucianna@gmail.com, maxit1992@gmail.com, rodolfopaganini@gmail.com\n",
      "    Lunes 19:00 a 19:45            Acerbo           bureuclara@gmail.com, maxit1992@gmail.com, rodolfopaganini@gmail.com\n",
      "    Lunes 20:30 a 21:15  Bampini Basualdo         roberto.axt@gmail.com, javifanelli@gmail.com, gabrielcarutti@gmail.com\n",
      "    Lunes 21:15 a 22:00         Fernandez      adrianchamudis@gmail.com, ingalbertopacheco@gmail.com, japsiete@gmail.com\n",
      "   Martes 16:00 a 16:45  Vásquez González           denisjorgegenero@gmail.com, apermingeat@gmail.com, dessaya@gmail.com\n",
      "   Martes 16:45 a 17:30            Saraco            f.d.peccia@gmail.com, paoroodriguez24@gmail.com, gstuarts@gmail.com\n",
      "   Martes 17:30 a 18:15               Paz              santiagoh719@gmail.com, zerbattodiaz@gmail.com, jpprina@gmail.com\n",
      "   Martes 19:00 a 19:45   Monroy Guerrero                 vacagonzalo@gmail.com, gesager@gmail.com, evolentini@gmail.com\n",
      "   Martes 19:45 a 20:30           Mendoza      Jose.Alamos@haw-hamburg.de, delephin@gmail.com, severichejose90@gmail.com\n",
      "Miércoles 17:30 a 18:15 Anselmi Hernandez       nahuelpenas@hotmail.com, javiercurutchet@gmail.com, luishbc317@gmail.com\n",
      "Miércoles 18:15 a 19:00            Ferrán                hmerlino@gmail.com, enfernandez@uno.edu.ar, paobritos@gmail.com\n",
      "Miércoles 19:00 a 19:45         Brumovsky           pgonzal@fi.uba.ar, fzacchigna@fi.uba.ar, juanignaciocornet@gmail.com\n",
      "Miércoles 19:45 a 20:30    Andrioli Villa           javifanelli@gmail.com, claudio.biale@gmail.com, emilianorm@gmail.com\n",
      "Miércoles 20:30 a 21:15    Carvallo Murga      ccorominas@fi.uba.ar, csueldo@herrera.unt.edu.ar, rjlabastida@hotmail.com\n",
      "Miércoles 21:15 a 22:00             Baffo  farfan.roberto.f@gmail.com, cyanez@fi.uba.ar, edgar.torre.acad.2019@gmail.com\n"
     ]
    }
   ],
   "source": [
    "print(\"\\n=== MEJOR ASIGNACIÓN ENCONTRADA ===\")\n",
    "print(df_final.to_string(index=False))"
   ]
  }
 ],
 "metadata": {
  "kernelspec": {
   "display_name": "add-env",
   "language": "python",
   "name": "python3"
  },
  "language_info": {
   "codemirror_mode": {
    "name": "ipython",
    "version": 3
   },
   "file_extension": ".py",
   "mimetype": "text/x-python",
   "name": "python",
   "nbconvert_exporter": "python",
   "pygments_lexer": "ipython3",
   "version": "3.11.12"
  }
 },
 "nbformat": 4,
 "nbformat_minor": 5
}
